{
 "cells": [
  {
   "cell_type": "markdown",
   "metadata": {},
   "source": [
    "# JSON and CSV: Working with Structured Data in Python\n",
    "\n",
    "In this presentation, we'll learn how to:\n",
    "1. Save and load nested data using `json`\n",
    "2. Read and write tabular data using `csv`\n",
    "3. Know when to use each"
   ]
  },
  {
   "cell_type": "markdown",
   "metadata": {},
   "source": [
    "### Motivation: Sharing data between programs\n",
    "Suppose we wrote a Python script that collects user survey results.\n",
    "We want to:\n",
    "- Send them to a web app\n",
    "- Share with your boss using Excel\n",
    "\n",
    "What format can we use?\n",
    "\n",
    "Humans and machines often exchange data in JSON or CSV because both are:\n",
    "- plain-test formats (easy to read, share, and version control)\n",
    "- widely supported across languages"
   ]
  },
  {
   "cell_type": "markdown",
   "metadata": {},
   "source": [
    "## What JSON and CSV Formats look like"
   ]
  },
  {
   "cell_type": "markdown",
   "metadata": {},
   "source": [
    "### JSON Example\n",
    "JSON (*JavaScript Object Notation*) represents structured, hierarchical data:\n",
    "\n",
    "```python\n",
    "{\n",
    "  \"name\": \"John\",\n",
    "  \"age\": 30,\n",
    "  \"isStudent\": false,\n",
    "  \"courses\": [\"Math\", \"Science\", \"History\"]\n",
    "}\n",
    "```\n",
    "### CSV Example\n",
    "CSV (*Comma Separated Values*) represents flat and tabular data:\n",
    "\n",
    "```python\n",
    "Name,Age,City\n",
    "John Doe,30,New York\n",
    "Jane Smith,25,Los Angeles\n",
    "```\n",
    "\n"
   ]
  },
  {
   "cell_type": "markdown",
   "metadata": {},
   "source": [
    "## JSON module in Python: \n",
    "\n",
    "The `json` module allows Python to communicate with systems that use JSON.\n",
    "\n",
    "**Two main operations:**\n",
    "- *Encoding*: Python → JSON  \n",
    "  - `json.dumps(obj)` → string  \n",
    "  - `json.dump(obj, file)` → write to file\n",
    "- *Decoding*: JSON → Python  \n",
    "  - `json.loads(str)` → parse from string  \n",
    "  - `json.load(file)` → read from file\n"
   ]
  },
  {
   "cell_type": "code",
   "execution_count": 5,
   "metadata": {},
   "outputs": [
    {
     "name": "stdout",
     "output_type": "stream",
     "text": [
      "First user: Jess\n",
      "{\n",
      "  \"users\": [\n",
      "    {\n",
      "      \"age\": 22,\n",
      "      \"name\": \"Jess\",\n",
      "      \"pets\": [\n",
      "        \"dog\",\n",
      "        \"cat\",\n",
      "        \"fish\",\n",
      "        \"shrimp\"\n",
      "      ]\n",
      "    },\n",
      "    {\n",
      "      \"age\": 25,\n",
      "      \"name\": \"Chelsea\",\n",
      "      \"pets\": [\n",
      "        \"cat\"\n",
      "      ]\n",
      "    }\n",
      "  ]\n",
      "}\n"
     ]
    }
   ],
   "source": [
    "import json\n",
    "\n",
    "#1. Your survey data (\"What's your name, your age, and the pet you have?\")\n",
    "data = {\n",
    "    \"users\": [\n",
    "        {\"name\": \"Jess\", \"age\": 22, \"pets\": [\"dog\", \"cat\", \"fish\", \"shrimp\"]},\n",
    "        {\"name\": \"Chelsea\", \"age\": 25, \"pets\": [\"cat\"]}\n",
    "    ]\n",
    "}\n",
    "\n",
    "#2. Write the data to a JSON file\n",
    "with open(\"users.json\", \"w\") as f:\n",
    "    json.dump(data, f, indent=2)\n",
    "\n",
    "#3. Read the JSON back\n",
    "with open(\"users.json\", \"r\") as f:\n",
    "    users = json.load(f)\n",
    "\n",
    "print(\"First user:\", users[\"users\"][0][\"name\"])\n",
    "\n",
    "#additional functionalities:\n",
    "#We can make it format it nicely\n",
    "\n",
    "print(json.dumps(data, indent = 2, sort_keys = True))"
   ]
  },
  {
   "cell_type": "markdown",
   "metadata": {},
   "source": [
    "### Real-World Example: Using JSON from an API (Wikipedia)\n",
    "\n",
    "Most web APIs like wikipedia send and receive data in JSON format.  \n",
    "Here’s how we can request information about a Wikipedia page and parse it in Python."
   ]
  },
  {
   "cell_type": "code",
   "execution_count": 13,
   "metadata": {},
   "outputs": [
    {
     "name": "stdout",
     "output_type": "stream",
     "text": [
      "Raw JSON response:\n",
      "{\"type\":\"standard\",\"title\":\"Python (programming language)\",\"displaytitle\":\"<span class=\\\"mw-page-title-main\\\">Python (programming language)</span>\",\"namespace\":{\"id\":0,\"text\":\"\"},\"wikibase_item\":\"Q28865\",\"titles\":{\"canonical\":\"Python_(programming_language)\",\"normalized\":\"Python (programming language...\n",
      "\n",
      "Parsed keys:\n",
      "['type', 'title', 'displaytitle', 'namespace', 'wikibase_item', 'titles', 'pageid', 'thumbnail', 'originalimage', 'lang', 'dir', 'revision', 'tid', 'timestamp', 'description', 'description_source', 'content_urls', 'extract', 'extract_html']\n",
      "\n",
      "Title: Python (programming language)\n",
      "Description: General-purpose programming language\n",
      "Extract (first sentence): Python is a high-level, general-purpose programming language. Its design philosophy emphasizes code readability with the ...\n"
     ]
    }
   ],
   "source": [
    "import requests\n",
    "import json\n",
    "\n",
    "headers = {\n",
    "    \"User-Agent\": \"json-csv-demo/1.0 (contact: jxiong3@uchicago.edu)\"\n",
    "}\n",
    "\n",
    "#Wikipedia REST API\n",
    "url = \"https://en.wikipedia.org/api/rest_v1/page/summary/Python_(programming_language)\"\n",
    "response = requests.get(url, headers=headers)\n",
    "\n",
    "#Raw JSON text\n",
    "print(\"Raw JSON response:\")\n",
    "print(response.text[:300] + \"...\")\n",
    "\n",
    "# Parse into Python dict\n",
    "data = response.json()\n",
    "\n",
    "print(\"\\nParsed keys:\")\n",
    "print(list(data.keys()))\n",
    "\n",
    "print(\"\\nTitle:\", data[\"title\"])\n",
    "print(\"Description:\", data[\"description\"])\n",
    "print(\"Extract (first sentence):\", data[\"extract\"][:120], \"...\")"
   ]
  },
  {
   "cell_type": "markdown",
   "metadata": {},
   "source": [
    "### Additional JSON features\n",
    "\n",
    "- **Pretty printing** (`indent`, `sort_keys`) — make files human-readable.  \n",
    "\n",
    "- **Unicode handling** (`ensure_ascii=False`) — keeps non-English characters visible.  \n",
    "\n",
    "- **Error handling** (`JSONDecodeError`) — helps pinpoint bad JSON input - useful for validating data from others \n",
    "\n",
    "- There are many other cool features\n"
   ]
  },
  {
   "cell_type": "markdown",
   "metadata": {},
   "source": [
    "## CSV module in Python:\n",
    "\n",
    "The `csv` module supports reading and writing comma-separated files.\n",
    "\n",
    "**Main interfaces:**\n",
    "- `csv.writer` → writes lists\n",
    "- `csv.reader` → reads rows as lists\n",
    "- `csv.DictWriter` / `csv.DictReader` → use column names\n"
   ]
  },
  {
   "cell_type": "code",
   "execution_count": 14,
   "metadata": {},
   "outputs": [
    {
     "name": "stdout",
     "output_type": "stream",
     "text": [
      "['name', 'item', 'price']\n",
      "['Jess', 'apple', '1.2']\n",
      "['Rob', 'banana', '0.8']\n"
     ]
    }
   ],
   "source": [
    "import csv\n",
    "rows = [\n",
    "    [\"name\", \"item\", \"price\"],\n",
    "    [\"Jess\", \"apple\", 1.2],\n",
    "    [\"Rob\", \"banana\", 0.8]\n",
    "]\n",
    "\n",
    "#Write the CSV\n",
    "with open(\"sales.csv\", \"w\", newline=\"\") as f:\n",
    "    writer = csv.writer(f)\n",
    "    writer.writerows(rows)\n",
    "\n",
    "#Read the CSV\n",
    "with open(\"sales.csv\") as f:\n",
    "    reader = csv.reader(f)\n",
    "    for row in reader:\n",
    "        print(row)\n"
   ]
  },
  {
   "cell_type": "markdown",
   "metadata": {},
   "source": [
    "### Other CSV Features"
   ]
  },
  {
   "cell_type": "markdown",
   "metadata": {},
   "source": [
    "### DictReader and DictWriter\n",
    "\n",
    "Normally, `csv.reader` and `csv.writer` work with **lists** — each row is just a list of values.  \n",
    "But sometimes it’s easier to work with column names instead of remembering column positions.\n",
    "\n",
    "That’s what `DictReader` and `DictWriter` do:\n",
    "\n",
    "- **`csv.DictWriter`** — writes each row from a dictionary (keys = column names).  "
   ]
  },
  {
   "cell_type": "code",
   "execution_count": 18,
   "metadata": {},
   "outputs": [
    {
     "name": "stdout",
     "output_type": "stream",
     "text": [
      "Jess bought apple for 1.2\n",
      "Rob bought banana for 0.8\n",
      "Total sales by person:\n",
      "Jess → $ 1.2\n",
      "Rob → $ 0.8\n"
     ]
    }
   ],
   "source": [
    "#Write using DictWriter\n",
    "with open(\"sales_dict.csv\", \"w\", newline=\"\") as f:\n",
    "    fieldnames = [\"name\", \"item\", \"price\"]\n",
    "    writer = csv.DictWriter(f, fieldnames=fieldnames)\n",
    "    writer.writeheader()\n",
    "    writer.writerow({\"name\": \"Jess\", \"item\": \"apple\", \"price\": 1.2})\n",
    "    writer.writerow({\"name\": \"Rob\", \"item\": \"banana\", \"price\": 0.8})\n",
    "\n",
    "#Read using DictReader\n",
    "totals = {}\n",
    "with open(\"sales_dict.csv\") as f:\n",
    "    reader = csv.DictReader(f)\n",
    "    for row in reader:\n",
    "        print(row[\"name\"], \"bought\", row[\"item\"], \"for\", row[\"price\"])\n",
    "        totals[row[\"name\"]] = totals.get(row[\"name\"], 0) + float(row[\"price\"]) #compute total sales per person\n",
    "print(\"Total sales by person:\")\n",
    "for name, total in totals.items():\n",
    "    print(name, \"→ $\", round(total, 2))"
   ]
  },
  {
   "cell_type": "markdown",
   "metadata": {},
   "source": [
    "\n",
    "- **Custom delimiters** (`delimiter=\"\\t\"`, `\";\"`, etc.) — handles files with different separators (that are not commas)\n",
    "\n",
    "- **Quoting and escape rules** (`quotechar`, `escapechar`) — manage commas or quotes inside text fields.  "
   ]
  },
  {
   "cell_type": "markdown",
   "metadata": {},
   "source": [
    "### Summary\n",
    "- Use **JSON** for nested or hierarchical data (APIs, configs).  \n",
    "- Use **CSV** for flat, tabular data (spreadsheets, analytics).  \n"
   ]
  }
 ],
 "metadata": {
  "kernelspec": {
   "display_name": "venv",
   "language": "python",
   "name": "python3"
  },
  "language_info": {
   "codemirror_mode": {
    "name": "ipython",
    "version": 3
   },
   "file_extension": ".py",
   "mimetype": "text/x-python",
   "name": "python",
   "nbconvert_exporter": "python",
   "pygments_lexer": "ipython3",
   "version": "3.9.6"
  }
 },
 "nbformat": 4,
 "nbformat_minor": 2
}
